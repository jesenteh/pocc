{
  "nbformat": 4,
  "nbformat_minor": 0,
  "metadata": {
    "colab": {
      "provenance": []
    },
    "kernelspec": {
      "name": "python3",
      "display_name": "Python 3"
    },
    "language_info": {
      "name": "python"
    }
  },
  "cells": [
    {
      "cell_type": "markdown",
      "source": [
        "Import the necessary libraries."
      ],
      "metadata": {
        "id": "M1oKoUQc-kZs"
      }
    },
    {
      "cell_type": "code",
      "execution_count": null,
      "metadata": {
        "id": "Klf3sjaA6pLx"
      },
      "outputs": [],
      "source": [
        "import random\n",
        "from datetime import datetime\n",
        "from dataclasses import dataclass, field\n",
        "import numpy as np"
      ]
    },
    {
      "cell_type": "markdown",
      "source": [
        "\n",
        "\n",
        "---\n",
        "# Experiments\n",
        "\n",
        "\n",
        "The following is an example of how distances are computed."
      ],
      "metadata": {
        "id": "jlz5ngvNBksb"
      }
    },
    {
      "cell_type": "code",
      "source": [
        "from cryptography.hazmat.backends import default_backend\n",
        "from cryptography.hazmat.primitives import hashes\n",
        "import time\n",
        "\n",
        "\n",
        "def generate_sha256_hash(data):\n",
        "    digest = hashes.Hash(hashes.SHA256(), backend=default_backend())\n",
        "    digest.update(data)\n",
        "    return digest.finalize()\n",
        "\n",
        "def bytes_to_integer(data):\n",
        "    integer_representation = int.from_bytes(data, byteorder='big')\n",
        "    return integer_representation\n",
        "\n",
        "\n",
        "if __name__ == \"__main__\":\n",
        "        data = b\"123415\"\n",
        "        hash_value = generate_sha256_hash(data)\n",
        "        hash1 = bytes_to_integer(hash_value)\n",
        "        # print(hex(hash1))\n",
        "        print(hash_value.hex())\n",
        "\n",
        "        data = b\"12341\"\n",
        "        hash_value = generate_sha256_hash(data)\n",
        "        hash2 = bytes_to_integer(hash_value)\n",
        "        # print(hex(hash2))\n",
        "        print(hash_value.hex())\n",
        "\n",
        "        diff = hash1 ^ hash2\n",
        "        print(\"Difference:\")\n",
        "        print(diff)"
      ],
      "metadata": {
        "colab": {
          "base_uri": "https://localhost:8080/"
        },
        "id": "e_6n_VTjBmWs",
        "outputId": "e264acda-abc0-43ab-e48d-f7e921916308"
      },
      "execution_count": null,
      "outputs": [
        {
          "output_type": "stream",
          "name": "stdout",
          "text": [
            "624434d720984b65842eb9e98ee47abdf248a7b0f1e9b9274d60224fdf7c26a9\n",
            "f6ff5adab5180a3d10ffb611f2caddd0a2b0922bde398ad186e946480bec3943\n",
            "Difference:\n",
            "67273461549758729595315090093437865851328064211884797168643376310320695877610\n"
          ]
        }
      ]
    },
    {
      "cell_type": "markdown",
      "source": [
        "The following code measures the time taken to perform distance comparisons."
      ],
      "metadata": {
        "id": "hkfKspq-OiTw"
      }
    },
    {
      "cell_type": "code",
      "source": [
        "from cryptography.hazmat.backends import default_backend\n",
        "from cryptography.hazmat.primitives import hashes\n",
        "import time\n",
        "\n",
        "\n",
        "# num_nodes = 10\n",
        "time_array = [0]*9 #Store values from 10 to 10,000,000\n",
        "\n",
        "if __name__ == \"__main__\":\n",
        "    count = 0\n",
        "    for num_nodes in (10**i for i in range(1, 10)):\n",
        "      start_time = time.time()\n",
        "\n",
        "      for i in range (num_nodes):\n",
        "        hash1 = 0xf6ff5adab5180a3d10ffb611f2caddd0a2b0922bde398ad186e946480bec3943\n",
        "        hash2 = 0x624434d720984b65842eb9e98ee47abdf248a7b0f1e9b9274d60224fdf7c26a9\n",
        "\n",
        "        diff = hash1 ^ hash2\n",
        "      end_time = time.time()\n",
        "\n",
        "      # Calculate the elapsed time in seconds\n",
        "      elapsed_time = end_time - start_time\n",
        "\n",
        "      # Print the elapsed time\n",
        "      print(f\"For {num_nodes} nodes, the elapsed time: {elapsed_time} seconds\")\n",
        "      time_array[count] = elapsed_time\n",
        "      count = count+1\n",
        "    print(time_array)"
      ],
      "metadata": {
        "colab": {
          "base_uri": "https://localhost:8080/"
        },
        "id": "vmNhCMu0OCrv",
        "outputId": "a56daee2-7365-47f9-9f08-77d272cedc04"
      },
      "execution_count": null,
      "outputs": [
        {
          "output_type": "stream",
          "name": "stdout",
          "text": [
            "For 10 nodes, the elapsed time: 4.291534423828125e-06 seconds\n",
            "For 100 nodes, the elapsed time: 2.6226043701171875e-05 seconds\n",
            "For 1000 nodes, the elapsed time: 0.00020265579223632812 seconds\n",
            "For 10000 nodes, the elapsed time: 0.0016226768493652344 seconds\n",
            "For 100000 nodes, the elapsed time: 0.021474599838256836 seconds\n",
            "For 1000000 nodes, the elapsed time: 0.16056323051452637 seconds\n",
            "For 10000000 nodes, the elapsed time: 1.6812143325805664 seconds\n",
            "For 100000000 nodes, the elapsed time: 19.06484293937683 seconds\n",
            "For 1000000000 nodes, the elapsed time: 183.2874493598938 seconds\n",
            "[4.291534423828125e-06, 2.6226043701171875e-05, 0.00020265579223632812, 0.0016226768493652344, 0.021474599838256836, 0.16056323051452637, 1.6812143325805664, 19.06484293937683, 183.2874493598938]\n"
          ]
        }
      ]
    },
    {
      "cell_type": "code",
      "source": [
        "import matplotlib.pyplot as plt\n",
        "\n",
        "# Given arrays\n",
        "time_array = [4.291534423828125e-06, 2.6226043701171875e-05, 0.00020265579223632812, 0.0016226768493652344, 0.021474599838256836, 0.16056323051452637, 1.6812143325805664, 19.06484293937683, 183.2874493598938]\n",
        "value = [10, 100, 1000, 10000, 100000, 1000000, 10000000, 100000000, 1000000000]\n",
        "\n",
        "# Plotting the line graph\n",
        "plt.plot(value, time_array, marker='o')\n",
        "\n",
        "# Setting the labels for x and y axes\n",
        "plt.xlabel('Number of Nodes')\n",
        "plt.ylabel('Time (seconds)')\n",
        "\n",
        "\n",
        "# Display the plot\n",
        "plt.grid(True)\n",
        "plt.xscale('log')  # Log scale for better visualization of the large range in values\n",
        "plt.show()\n"
      ],
      "metadata": {
        "colab": {
          "base_uri": "https://localhost:8080/",
          "height": 454
        },
        "id": "rwGyLkVJLTWF",
        "outputId": "50b79647-2786-4742-eed6-3551a5173e31"
      },
      "execution_count": null,
      "outputs": [
        {
          "output_type": "display_data",
          "data": {
            "text/plain": [
              "<Figure size 640x480 with 1 Axes>"
            ],
            "image/png": "[encoded data removed]"
          },
          "metadata": {}
        }
      ]
    },
    {
      "cell_type": "markdown",
      "source": [
        "Reading and importing datasheet in Excel format"
      ],
      "metadata": {
        "id": "IWFRqsH3NE3i"
      }
    },
    {
      "cell_type": "code",
      "source": [
        "import pandas as pd\n",
        "\n",
        "def read_excel_sheet(file_path, sheet_name):\n",
        "    # Read the Excel file\n",
        "    df = pd.read_excel(file_path, sheet_name=sheet_name)\n",
        "    return df\n",
        "\n",
        "def extract_data(df):\n",
        "    extracted_data = df[['Customer', 'date', 'Ratio']]\n",
        "    return extracted_data\n",
        "\n",
        "# Example usage\n",
        "if __name__ == \"__main__\":\n",
        "    file_path = 'dataset_100_ratio.xlsx'\n",
        "    sheet_name = 'Sheet1'\n",
        "\n",
        "    df = read_excel_sheet(file_path, sheet_name)\n",
        "    print(\"DataFrame:\")\n",
        "    print(df)\n",
        "\n",
        "    extracted_data = extract_data(df)\n",
        "    print(\"\\nExtracted Data:\")\n",
        "    print(extracted_data)"
      ],
      "metadata": {
        "colab": {
          "base_uri": "https://localhost:8080/"
        },
        "id": "uV-7TD7JNHRE",
        "outputId": "2d7a7e04-06c2-4c86-ae14-924b1e13e03c"
      },
      "execution_count": null,
      "outputs": [
        {
          "output_type": "stream",
          "name": "stdout",
          "text": [
            "DataFrame:\n",
            "       Customer       date     Ratio\n",
            "0             1 2012-07-01  0.382786\n",
            "1             2 2012-07-01  0.147095\n",
            "2             3 2012-07-01  0.122727\n",
            "3             4 2012-07-01  0.127445\n",
            "4             5 2012-07-01  0.128176\n",
            "...         ...        ...       ...\n",
            "30293        96 2013-06-30  0.238890\n",
            "30294        97 2013-06-30  0.000000\n",
            "30295        98 2013-06-30  0.055201\n",
            "30296        99 2013-06-30  0.107767\n",
            "30297       100 2013-06-30  1.272486\n",
            "\n",
            "[30298 rows x 3 columns]\n",
            "\n",
            "Extracted Data:\n",
            "       Customer       date     Ratio\n",
            "0             1 2012-07-01  0.382786\n",
            "1             2 2012-07-01  0.147095\n",
            "2             3 2012-07-01  0.122727\n",
            "3             4 2012-07-01  0.127445\n",
            "4             5 2012-07-01  0.128176\n",
            "...         ...        ...       ...\n",
            "30293        96 2013-06-30  0.238890\n",
            "30294        97 2013-06-30  0.000000\n",
            "30295        98 2013-06-30  0.055201\n",
            "30296        99 2013-06-30  0.107767\n",
            "30297       100 2013-06-30  1.272486\n",
            "\n",
            "[30298 rows x 3 columns]\n"
          ]
        }
      ]
    },
    {
      "cell_type": "markdown",
      "source": [
        "After running the code cell above, the data already extracted and can be used.\n",
        "\n",
        "The following performs simulation on real data, limited to 100 nodes for 1 year."
      ],
      "metadata": {
        "id": "44LUN2_fOF0X"
      }
    },
    {
      "cell_type": "code",
      "source": [
        "#Simulation with real data, 100 nodes, 1 year\n",
        "\n",
        "import struct\n",
        "\n",
        "# This is the ratio of contribution to generation to participate in the hashing process\n",
        "# diff_ratio = difficulty ratio\n",
        "diff_ratio = 0.1\n",
        "\n",
        "def date_to_hash(i):\n",
        "  date = pd.Timestamp(i)\n",
        "  ts = date.timestamp()\n",
        "  hash_value = generate_sha256_hash(struct.pack('d', ts))\n",
        "  return bytes_to_integer(hash_value)\n",
        "\n",
        "def ratio_to_hash(i):\n",
        "  hash_value = generate_sha256_hash(struct.pack('d', i))\n",
        "  return(bytes_to_integer(hash_value))\n",
        "\n",
        "# The following is an array to store how many times each node is selected as a block leader\n",
        "leader = [0] * 100\n",
        "\n",
        "# The following are variables to store the smallest distance/nearest node for comparison\n",
        "smallest_distance = 0\n",
        "nearest_node = 0\n",
        "\n",
        "# We go through each day in the dataset for each of the 100 nodes and try to find the nearest node\n",
        "# The \"target\" is a hash obtained from the date (timestamp) information (this could be modified later)\n",
        "count = 0 #row counter\n",
        "i = df.iloc[count]['date'] #First timestamp\n",
        "target_hash = date_to_hash(i) #Convert to hash\n",
        "# print(hex(target_hash))\n",
        "\n",
        "# We loop through all data points, each data point corresponds to the contribution/generation of a node in a particular day\n",
        "# Some nodes have no data on specific days\n",
        "while(count!=30298): #Number of data points\n",
        "  if (df.iloc[count]['date'] == i): #If it's still the current date\n",
        "\n",
        "    #Get customerID\n",
        "    custID = df.iloc[count]['Customer']\n",
        "\n",
        "    #Get customer ratio\n",
        "    ratio = df.iloc[count]['Ratio']\n",
        "\n",
        "    #Check if ratio exceeds diff_ratio%\n",
        "    if (ratio >= diff_ratio):\n",
        "      node_hash = ratio_to_hash(ratio)\n",
        "      # print(hex(node_hash))\n",
        "      #calculate distance to target hash\n",
        "      cur_distance = node_hash ^ target_hash\n",
        "\n",
        "      if (smallest_distance == 0):\n",
        "        smallest_distance = cur_distance\n",
        "        nearest_node = custID\n",
        "\n",
        "      elif (cur_distance < smallest_distance):\n",
        "        smallest_distance = cur_distance\n",
        "        nearest_node = custID\n",
        "\n",
        "    # else:\n",
        "    #   print(ratio, \"insufficient\")\n",
        "\n",
        "    count = count + 1\n",
        "\n",
        "  else:\n",
        "    # print(\"Closest node is\", nearest_node, \" on \", i)\n",
        "    leader[nearest_node-1] = leader[nearest_node-1] + 1\n",
        "    i = df.iloc[count]['date']\n",
        "    # print(\"Moving on to\", i)\n",
        "    closest_node = 99999999\n",
        "    smallest_distance = 0\n",
        "    i = df.iloc[count]['date'] #new date\n",
        "    target_hash = date_to_hash(i) #Convert to hash\n",
        "    # print(\"New target:\", hex(target_hash))\n",
        "\n",
        "# Print the results after 1 year's worth of data\n",
        "print(leader)\n",
        "\n",
        "#Customer 2, 4, 6, 8 etc. all never get selected because they don't have ratios above 50%\n",
        "#Customer 1 has very good generation ratios, some above 100%"
      ],
      "metadata": {
        "colab": {
          "base_uri": "https://localhost:8080/"
        },
        "id": "SanNjJ5sZOAO",
        "outputId": "018bc26f-efd4-4a9d-a467-03e6266f4073"
      },
      "execution_count": null,
      "outputs": [
        {
          "output_type": "stream",
          "name": "stdout",
          "text": [
            "[10, 10, 2, 6, 3, 5, 5, 4, 6, 3, 3, 1, 4, 3, 4, 3, 1, 5, 0, 1, 4, 1, 0, 1, 4, 3, 5, 4, 2, 5, 2, 2, 6, 7, 3, 5, 0, 2, 6, 1, 7, 9, 4, 4, 4, 1, 3, 2, 4, 2, 7, 4, 6, 2, 3, 0, 5, 5, 3, 3, 6, 0, 2, 7, 3, 1, 0, 10, 3, 7, 6, 4, 1, 3, 6, 2, 9, 1, 1, 3, 7, 2, 3, 5, 3, 3, 5, 2, 2, 2, 0, 2, 0, 6, 2, 4, 4, 4, 9, 4]\n"
          ]
        }
      ]
    },
    {
      "cell_type": "code",
      "source": [
        "import matplotlib.pyplot as plt\n",
        "\n",
        "# Create a list of node indices (0 to 99)\n",
        "nodes = list(range(1, 101))\n",
        "\n",
        "plt.figure(figsize=(12, 6))\n",
        "plt.bar(nodes, leader, color='blue')\n",
        "\n",
        "# Add titles and labels\n",
        "plt.title('Block Leader Selection Count by Node')\n",
        "plt.xlabel('Node')\n",
        "plt.ylabel('Number of Times Selected as Block Leader')\n",
        "# Set x-axis tick marks every 2 nodes\n",
        "plt.xticks(ticks=range(1, 101, 5))\n",
        "# Display the chart\n",
        "plt.show()"
      ],
      "metadata": {
        "colab": {
          "base_uri": "https://localhost:8080/",
          "height": 418
        },
        "id": "e5Fld0cssvgn",
        "outputId": "9f403500-df0f-43fd-f5ce-74b6575fd120"
      },
      "execution_count": null,
      "outputs": [
        {
          "output_type": "display_data",
          "data": {
            "text/plain": [
              "<Figure size 1200x600 with 1 Axes>"
            ],
            "image/png": "[encoded data removed]"
          },
          "metadata": {}
        }
      ]
    },
    {
      "cell_type": "code",
      "source": [
        "#Simulation with all nodes contributing equally\n",
        "\n",
        "import struct, random\n",
        "\n",
        "def date_to_hash(i):\n",
        "  date = pd.Timestamp(i)\n",
        "  ts = date.timestamp()\n",
        "  hash_value = generate_sha256_hash(struct.pack('d', ts))\n",
        "  return bytes_to_integer(hash_value)\n",
        "\n",
        "def ratio_to_hash(i):\n",
        "  hash_value = generate_sha256_hash(struct.pack('d', i))\n",
        "  return(bytes_to_integer(hash_value))\n",
        "\n",
        "leader = [0] * 100\n",
        "\n",
        "smallest_distance = 0\n",
        "nearest_node = 0\n",
        "\n",
        "#For each date, find nearest node\n",
        "count = 0 #row counter\n",
        "i = df.iloc[count]['date'] #First timestamp\n",
        "target_hash = date_to_hash(i) #Convert to hash\n",
        "# print(hex(target_hash))\n",
        "\n",
        "while(count!=30298): #Number of data points\n",
        "  if (df.iloc[count]['date'] == i): #If it's still the current date\n",
        "\n",
        "    #Get customerID\n",
        "    custID = df.iloc[count]['Customer']\n",
        "\n",
        "    #Get customer ratio\n",
        "    ratio = df.iloc[count]['Ratio']\n",
        "    # print(ratio\n",
        "    #Fixed ratio above 0.5\n",
        "    ratio = 0.6\n",
        "\n",
        "    #Check if ratio exceeds 50%\n",
        "    if (ratio >= 0.5):\n",
        "      node_hash = ratio_to_hash(ratio+random.random())\n",
        "      # print(hex(node_hash))\n",
        "      #calculate distance to target hash\n",
        "      cur_distance = node_hash ^ target_hash\n",
        "\n",
        "      if (smallest_distance == 0):\n",
        "        smallest_distance = cur_distance\n",
        "        nearest_node = custID\n",
        "\n",
        "      elif (cur_distance < smallest_distance):\n",
        "        smallest_distance = cur_distance\n",
        "        nearest_node = custID\n",
        "\n",
        "    # else:\n",
        "    #   print(ratio, \"insufficient\")\n",
        "\n",
        "    count = count + 1\n",
        "\n",
        "  else:\n",
        "    # print(\"Closest node is\", nearest_node, \" on \", i)\n",
        "    leader[nearest_node-1] = leader[nearest_node-1] + 1\n",
        "    i = df.iloc[count]['date']\n",
        "    # print(\"Moving on to\", i)\n",
        "    closest_node = 99999999\n",
        "    smallest_distance = 0\n",
        "    i = df.iloc[count]['date'] #new date\n",
        "    target_hash = date_to_hash(i) #Convert to hash\n",
        "    # print(\"New target:\", hex(target_hash))\n",
        "\n",
        "print(leader)\n",
        "\n",
        "  # for i in range(101): #Number of nodes\n",
        "  #   custID = df.iloc[i]['Customer']\n",
        "  #   if custID == i+1:\n",
        "  #     print(i)\n",
        "  #   else:\n",
        "  #     i = i+1\n",
        "  #     print(type(df.iloc[i]['Customer']))\n"
      ],
      "metadata": {
        "id": "VQ4G8abnQAHl"
      },
      "execution_count": null,
      "outputs": []
    },
    {
      "cell_type": "code",
      "source": [
        "# Simplified simulation, 10000 days, 100 nodes, shows balanced distribution\n",
        "# In this simplified simulation, the contributions of nodes are randomised\n",
        "smallest_distance = 0\n",
        "nearest_node = 0\n",
        "leader = [0] * 100\n",
        "\n",
        "duration = 10000\n",
        "\n",
        "for days in range(duration):\n",
        "  target_hash = ratio_to_hash(days+random.random())\n",
        "  for nodes in range(0,100):\n",
        "      node_hash = ratio_to_hash(random.random())\n",
        "      #calculate distance to target hash\n",
        "      cur_distance = node_hash ^ target_hash\n",
        "      # print(hex(cur_distance),hex(node_hash))\n",
        "      if (smallest_distance == 0):\n",
        "        smallest_distance = cur_distance\n",
        "        nearest_node = nodes\n",
        "      elif (cur_distance < smallest_distance):\n",
        "        smallest_distance = cur_distance\n",
        "        nearest_node = nodes\n",
        "\n",
        "  # print(\"Closest node is\", nearest_node, \" on \", days\n",
        "  leader[nearest_node] = leader[nearest_node] + 1\n",
        "  smallest_distance = 0\n",
        "\n",
        "print(leader)\n"
      ],
      "metadata": {
        "colab": {
          "base_uri": "https://localhost:8080/"
        },
        "id": "su-yf6SPiT3Y",
        "outputId": "7ad3ac4e-baf6-4600-f37a-137319ea1397"
      },
      "execution_count": null,
      "outputs": [
        {
          "output_type": "stream",
          "name": "stdout",
          "text": [
            "[105, 83, 89, 103, 92, 89, 101, 83, 103, 95, 108, 94, 105, 103, 111, 104, 90, 114, 90, 99, 114, 95, 94, 109, 108, 98, 94, 96, 99, 96, 92, 109, 103, 104, 99, 94, 104, 90, 100, 88, 97, 120, 85, 97, 93, 82, 95, 87, 104, 96, 97, 97, 78, 102, 106, 106, 101, 85, 120, 96, 93, 99, 90, 132, 88, 109, 103, 105, 112, 94, 91, 100, 110, 104, 82, 107, 119, 102, 95, 98, 88, 109, 116, 99, 112, 105, 110, 99, 88, 109, 106, 95, 110, 108, 99, 110, 105, 101, 112, 95]\n"
          ]
        }
      ]
    }
  ]
}